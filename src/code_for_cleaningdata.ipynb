{
 "cells": [
  {
   "cell_type": "code",
   "execution_count": 1,
   "id": "a4b0b675",
   "metadata": {},
   "outputs": [],
   "source": [
    "import pandas as pd\n",
    "import seaborn as sns\n",
    "import matplotlib.pyplot as plt\n",
    "import numpy as np\n"
   ]
  },
  {
   "cell_type": "code",
   "execution_count": null,
   "id": "a68bb915",
   "metadata": {},
   "outputs": [],
   "source": []
  },
  {
   "cell_type": "code",
   "execution_count": 6,
   "id": "f8ffa49f",
   "metadata": {},
   "outputs": [],
   "source": [
    "# Load the dataset into a pandas DataFrame\n",
    "data = pd.read_csv(\"C:/Users/Administrator/Desktop/Principles_of_data_science_Assignment-1/Question_1_Fraility_project/data_raw/raw_frailty_data.csv\")"
   ]
  },
  {
   "cell_type": "code",
   "execution_count": 7,
   "id": "73b14a30",
   "metadata": {},
   "outputs": [],
   "source": [
    "data = data.rename(columns={\n",
    "    'Height (Inches)': 'Height',\n",
    "    'Weight (Pounds)': 'Weight',\n",
    "    'Age': 'Age',\n",
    "    'Grip strength': 'Grip_strength',\n",
    "    'Frailty': 'Frailty'\n",
    "})"
   ]
  },
  {
   "cell_type": "code",
   "execution_count": 9,
   "id": "85953c9a",
   "metadata": {},
   "outputs": [],
   "source": [
    "df.to_csv(\"C:/Users/Administrator/Desktop/Principles_of_data_science_Assignment-1/Question_1_Fraility_project/data_clean/Cleaned_Fraility_data.csv\", index=False)"
   ]
  },
  {
   "cell_type": "code",
   "execution_count": null,
   "id": "e9816d98",
   "metadata": {},
   "outputs": [],
   "source": []
  }
 ],
 "metadata": {
  "kernelspec": {
   "display_name": "Python 3 (ipykernel)",
   "language": "python",
   "name": "python3"
  },
  "language_info": {
   "codemirror_mode": {
    "name": "ipython",
    "version": 3
   },
   "file_extension": ".py",
   "mimetype": "text/x-python",
   "name": "python",
   "nbconvert_exporter": "python",
   "pygments_lexer": "ipython3",
   "version": "3.9.13"
  }
 },
 "nbformat": 4,
 "nbformat_minor": 5
}
